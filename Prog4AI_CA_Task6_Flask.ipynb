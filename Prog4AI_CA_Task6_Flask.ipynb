{
 "cells": [
  {
   "cell_type": "code",
   "execution_count": null,
   "id": "e9dd4ad4-aa60-46cf-a253-30f434c01af3",
   "metadata": {
    "scrolled": true
   },
   "outputs": [],
   "source": [
    "from flask import Flask, request, jsonify\n",
    "from kafka import KafkaProducer\n",
    "import pandas as pd\n",
    "import json\n",
    "import os\n",
    "\n",
    "# Load data from CSV file\n",
    "data_file = \"C:/Users/hughp/Downloads/cleaned_data.csv\"\n",
    "if not os.path.exists(data_file):\n",
    "    raise FileNotFoundError(f\"Data file not found at path: {data_file}\")\n",
    "\n",
    "df = pd.read_csv(data_file)\n",
    "\n",
    "# Set up Kafka producer\n",
    "KAFKA_BROKER = \"localhost:9092\"  # Replace with your Kafka broker\n",
    "TOPIC_NAME = \"csv_data_topic\"\n",
    "producer = KafkaProducer(\n",
    "    bootstrap_servers=[KAFKA_BROKER],\n",
    "    value_serializer=lambda x: json.dumps(x).encode(\"utf-8\")\n",
    ")\n",
    "\n",
    "# Set up Flask app\n",
    "app = Flask(__name__)\n",
    "\n",
    "@app.route('/send-data', methods=['POST'])\n",
    "def send_data():\n",
    "    start = int(request.args.get(\"start\", 0))\n",
    "    end = int(request.args.get(\"end\", len(df)))\n",
    "\n",
    "    if start >= end or start < 0 or end > len(df):\n",
    "        return jsonify({\"error\": \"Invalid start or end index\"}), 400\n",
    "\n",
    "    # Send rows from DataFrame as messages to Kafka\n",
    "    for _, row in df.iloc[start:end].iterrows():\n",
    "        producer.send(TOPIC_NAME, row.to_dict())\n",
    "    producer.flush()\n",
    "    return jsonify({\"message\": f\"Data sent from row {start} to {end}\"}), 200\n",
    "\n",
    "@app.route('/')\n",
    "def index():\n",
    "    return \"Kafka Producer API is running.\"\n",
    "\n",
    "if __name__ == \"__main__\":\n",
    "    app.run(port=5000)\n"
   ]
  }
 ],
 "metadata": {
  "kernelspec": {
   "display_name": "Python 3 (ipykernel)",
   "language": "python",
   "name": "python3"
  },
  "language_info": {
   "codemirror_mode": {
    "name": "ipython",
    "version": 3
   },
   "file_extension": ".py",
   "mimetype": "text/x-python",
   "name": "python",
   "nbconvert_exporter": "python",
   "pygments_lexer": "ipython3",
   "version": "3.12.4"
  }
 },
 "nbformat": 4,
 "nbformat_minor": 5
}
